{
 "cells": [
  {
   "cell_type": "markdown",
   "id": "3b7e6a36",
   "metadata": {},
   "source": [
    "Question 1:\n",
    "\n",
    "The code begins by initializing the key variables that are required for the processing of the Monty Hall problem. A tuple to store the options of the three doors, the numbered door that was chosen, a counter variable to track the amount of wins, and a variable to store the amount of times the problem will be repeated.\n",
    "\n",
    "Then a for-loop is structure is made to repeat the problem the amount of times equal to the value stored in the repetition variable. Inside the for-loop will be the actual processing for the problem. First, the winning door will be determined using the random.choice() method from the NumPy library to randomly select one of the doors from the tuple initialized at the beginning. Then, a copy of the tuple is created as a list for the purpose of removing the winning door from the list so that Monty will not reveal it. \n",
    "\n",
    "Then, a try-except statement is used for the case when the chosen door is the same as the winning door. If the chosen door is not the winning door, then it is also removed from the list. Otherwise the line of code that removes the chosen door is passed since the winning door would have been already removed.\n",
    "\n",
    "After that, the random.choice() method is used again to reveal a non-chosen, losing door, where it is then removed from door option list. Once that has been done, if the chosen door was not the winning door, it would be added back to the list because in accordance with the 'winning strategy,' the player will need to switch their chosen door.\n",
    "\n",
    "Since all but one door would be remaining to the door option list, the player's chosen door will switch to the number of that door within the list. Then, the value of final chosen door is compared to the value of the winning door. If the doors were the same, the win counter increases by one.\n",
    "\n",
    "Once the for-loop has completed, the win counter is divided by the amount of repititions to generate the winning probability."
   ]
  },
  {
   "cell_type": "markdown",
   "id": "6b00d6bc",
   "metadata": {},
   "source": [
    "Question 2:\n",
    "\n",
    "The code provided by ChatGPT is much more concise, much faster, and requires much less tracing in order to follow along with the code. Chat also does a nice job of explaining what the code does, with the commenting being sufficient for explaining its decisions. I do, however, slightly prefer the original code as it kind of walks you through the entire game process, making it slightly easier to see how the game itself works, but since the purpose of this code is to generate probability, ChatGPT's solution does a much better job at providing that by only focusing on the conclusion of the problem.\n",
    "\n",
    "Question 3:"
   ]
  },
  {
   "cell_type": "code",
   "execution_count": 9,
   "id": "8bf62daa",
   "metadata": {},
   "outputs": [
    {
     "data": {
      "text/plain": [
       "0.6655"
      ]
     },
     "execution_count": 9,
     "metadata": {},
     "output_type": "execute_result"
    }
   ],
   "source": [
    "import numpy as np\n",
    "\n",
    "# Initalize repition and win counters\n",
    "reps = 100000\n",
    "i_won = 0\n",
    "\n",
    "# Simulates the problem repeated reps amount of times\n",
    "for i in range(reps):\n",
    "    # Randomly choose the winning door and player's initial choice\n",
    "    winning_door = np.random.randint(1, 4)\n",
    "    player_choice = np.random.randint(1, 4)\n",
    "    \n",
    "    # Player always switches: the switch would be to the remaining door not revealed\n",
    "    if player_choice != winning_door:\n",
    "        i_won += 1  # The switch results in a win if the initial choice was wrong, as the remaining door must be the winning door\n",
    "\n",
    "# Output win rate for always switching\n",
    "i_won/reps"
   ]
  },
  {
   "cell_type": "markdown",
   "id": "7ff9de6c",
   "metadata": {},
   "source": [
    "First ChatGPT session:\n",
    "\n",
    "\n",
    "Here's a summary of our conversation:\n",
    "\n",
    "Monty Hall Simulation Code: You shared a Python simulation of the Monty Hall problem, and I explained its functionality. The code simulates 100,000 trials where the player always switches doors, and it calculates the probability of winning with this strategy.\n",
    "\n",
    "Simplification: I suggested a shorter version of the code that skips explicitly revealing a goat door and focuses directly on the result—whether switching leads to a win. This streamlined the process while maintaining the logic and outcome of the problem.\n",
    "\n",
    "randint() Clarification: You asked about np.random.randint(), and I confirmed that it includes the lower bound but excludes the upper bound. So np.random.randint(1, 4) generates numbers from 1 to 3.\n",
    "\n",
    "Conclusion: The simplified code focuses on the key outcome (winning by switching) rather than fully simulating every step of the Monty Hall process, as the game’s core is about whether your initial choice was wrong.\n",
    "\n",
    "https://chatgpt.com/share/66e5ed3f-45ec-8003-b020-0f609d03b8cb"
   ]
  },
  {
   "cell_type": "markdown",
   "id": "a972c199",
   "metadata": {},
   "source": [
    "Second ChatGPT session:\n",
    "\n",
    "In this chat, we discussed several versions of a Markovian chatbot, with increasing complexity:\n",
    "\n",
    "Original Code: You shared a basic first-order Markov chain where a single word is used to predict the next word in a sequence. We analyzed how it worked and clarified the purpose of each section.\n",
    "\n",
    "First Extension: This upgraded the chatbot to a second-order Markov chain, where pairs of consecutive words are used to predict the next word. This provides more context and coherence in generated sentences.\n",
    "\n",
    "Second Extension: This further enhanced the model by associating the Markov chain with specific characters from a dataset (avatar). Each character has its own second-order Markov chain, allowing for character-specific text generation. The code uses nested dictionaries to manage the word transitions for each character separately.\n",
    "\n",
    "In each case, we explored how the data structures were modified to achieve the goal of more contextually aware or character-specific language modeling.\n",
    "\n",
    "https://chatgpt.com/share/66e9de76-e034-8003-a95c-b09268bbdc1e"
   ]
  },
  {
   "cell_type": "markdown",
   "id": "71953796",
   "metadata": {},
   "source": [
    "Question 6:\n",
    "\n",
    "1. ChatGPT was was very helpful for the questions about the Markovian chatbot, as it was able to explain the function of the code and its elements within 1-3 prompts. Even when providing the character + bigram extension in a new, ChatGPT was able to easily pick on the purpose of the code and break it down for me.\n",
    "2. Interacting with ChatGPT to figure things out appears to be rather helpful, as it provides straightforward answers that not only help you understand how code works, but also how code can be applied with those same concepts in an efficient manner.\n",
    "3. For some reason, in the past ChatGPT was typically less helpful when it came to coding support, but for the near 3 weeks in the course, it has been on a roll. I believe it has something to do with the fact ChatGPT is more accustomed to Python rather than Java (which was the programming language I wrote in high school). Overall, ChatGPT is useful for brushing up on key concepts or understanding how certain elements of coding work, as it is basically a Google search on steroids.\n",
    "\n",
    "Third ChatGPT session:\n",
    "\n",
    "Certainly! Here’s a summary of our chat:\n",
    "\n",
    "Markovian Chatbot Code:\n",
    "\n",
    "You provided code for a Markov chain-based text model. This code counts word occurrences and transitions to predict the next word based on the previous ones.\n",
    "Code Extension:\n",
    "\n",
    "You extended the code to handle sequences of words and characters. It tracks how often word pairs and triplets occur, organized by characters from a dataset.\n",
    "Layman's Explanation:\n",
    "\n",
    "We broke down the code to explain \"characters\" as individual entities (like names) and \"sequences\" as patterns of word pairs and triplets.\n",
    "Summary of Key Concepts:\n",
    "\n",
    "Characters are the entities tracked in the text.\n",
    "Sequences are patterns of words, including pairs and what follows them.\n",
    "The code helps build a detailed model to understand and generate text based on observed word patterns and character-specific sequences.\n",
    "\n",
    "https://chatgpt.com/share/66e9e1d1-9d64-8003-a3da-4c412a6f102c"
   ]
  },
  {
   "cell_type": "markdown",
   "id": "254dab7a",
   "metadata": {},
   "source": [
    "Question 7:\n",
    "\n",
    "Since joining this course, my perception of AI-driven assistance tools in the context of learning coding, statistics, data science, and other similar topics have been evolving into that of a positive perception. ChatGPT gives quick answers within minutes, whereas in the past I would have to go through 3 Stack Overflow posts plus a couple of old projects from other people in order to find a VERY simple answer to a relatively minor question or problem I would have had. To me, AI-driven assistance merely speeds up the rate at which you would obtain answers to smaller, less complex answers. You would not be able to ask ChatGPT to completely code a game for you, but if you have some sort of SyntaxError or LogicError that you cannot seem to figure out for some odd reason, you can copy and paste the code into a ChatBot and have it explain where you went wrong instead of browsing the archives of Reddit for some obscure answer."
   ]
  },
  {
   "cell_type": "markdown",
   "id": "1763615e",
   "metadata": {},
   "source": [
    "Fourth ChatGPT session:\n",
    "\n",
    "Certainly! Here’s a summary of our conversation:\n",
    "\n",
    "Skills for Modern Careers: We discussed the relevance of learning and adaptability, communication, coding, and statistics and data analysis. These skills are valuable across various fields, as they help with continuous improvement, effective collaboration, technical problem-solving, and data-driven decision-making.\n",
    "\n",
    "Roles in Game Development: For AAA video game development, key skills include:\n",
    "\n",
    "Programming: Proficiency in languages like C++ and C#, and familiarity with game engines such as Unreal Engine and Unity.\n",
    "Game Design: Understanding of game mechanics, storytelling, and level design.\n",
    "Graphics and Animation: Skills in 3D modeling, animation, and visual effects.\n",
    "Audio Design: Creating and integrating sound effects and music.\n",
    "Project Management: Organizing and managing development projects and team collaboration.\n",
    "Problem-Solving: Debugging and optimizing performance.\n",
    "UX and QA: Ensuring good user experience and quality assurance.\n",
    "Software Engineering in Banking: For a software engineer in the banking sector, important skills include:\n",
    "\n",
    "Programming: Expertise in languages like Java, C#, and Python, and familiarity with SQL.\n",
    "Database Management: Knowledge of SQL and NoSQL databases.\n",
    "Financial Systems Knowledge: Understanding of banking operations and transaction processing.\n",
    "Security: Skills in data security and risk management.\n",
    "SDLC: Familiarity with development methodologies and version control.\n",
    "Systems Integration: Working with APIs and middleware.\n",
    "Problem-Solving: Debugging and performance optimization.\n",
    "Compliance and Regulation: Knowledge of financial regulations and audit trails.\n",
    "Soft Skills: Effective communication and teamwork.\n",
    "These skills and knowledge areas are crucial for excelling in the respective fields of AAA game development and banking software engineering.\n",
    "\n",
    "https://chatgpt.com/share/66e9e63f-885c-8003-880a-c43bd2c2769c"
   ]
  },
  {
   "cell_type": "markdown",
   "id": "7dd64621",
   "metadata": {},
   "source": [
    "Question 8:\n",
    "\n",
    "4. In order to pursue a career in something like video game development, skills like programming is a must, especially in a language like C++, since knowledge of coding is the basis of software development. Understanding Game Design is also required, whether that be in how to design levels or entertaining mechanics, or how to simply create meaningful stories. Proficiency in Graphics and Animation is also recommended, since a majority of games nowadays are created in 3D environments, which means sculpting and rendering models while also creating and structure the animations of these models. Knowledge in audio design is also necesssary or useful to have, as sound effects and music is what gives video games life. Comprehension of Project Management is required, whether that be with tools that organize projects or simple coordination with team members, as projects will typically consist of large groups of people. Being comfortable with teamwork and communication will make managing projects much easier. Problem-Solving an Debugging is also required, because ensuring that a smooth product is released is crucial for making something successful. There are various ways to go about building these skills, whether it be through university courses directly correlated to these skills, extra-curricular activities that build on the more broad skills such as teamwork or communication, or finding projects online that I can contribute to for the purposes of accustoming myself to the management of similar projects.\n",
    "\n",
    "5. ChatGPT is rather limited in its responses to topics such as career trajectory, as it quite literally tells you what Google would tell you, which is often very generic and broad when it comes to results. If I really wanted to pursue this 'conversation' further, I would likely look for dedicated pieces of information for the careers at hand, such as interviews from industry professionals or articles and other similar pieces of media that could actually provide me or others the in-depth information that would genuinely aid in the pursuit of a desired career. ChatBots are good when it comes to objective issues such as coding or grammatical errors, but when it comes to something subjective like \"What skills should I focus on for career X or career Y\", it would be much better to speak to, or at least listen to, an actual human being who is educated in the career at hand."
   ]
  }
 ],
 "metadata": {
  "kernelspec": {
   "display_name": "Python 3 (ipykernel)",
   "language": "python",
   "name": "python3"
  },
  "language_info": {
   "codemirror_mode": {
    "name": "ipython",
    "version": 3
   },
   "file_extension": ".py",
   "mimetype": "text/x-python",
   "name": "python",
   "nbconvert_exporter": "python",
   "pygments_lexer": "ipython3",
   "version": "3.11.6"
  }
 },
 "nbformat": 4,
 "nbformat_minor": 5
}
