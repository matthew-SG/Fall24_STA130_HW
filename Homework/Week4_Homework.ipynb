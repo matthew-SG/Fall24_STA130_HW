{
 "cells": [
  {
   "cell_type": "markdown",
   "id": "39be2eb5",
   "metadata": {},
   "source": [
    "**Question 1**\n",
    "\n",
    "The difference between the \"standard deviation\" and the \"standard error of the mean\" is that the standard deviation measures the variability of a dataset around its mean, whereas the standard error of the mean measures how accurate a sample mean estimates the mean of the population after taking various samples. The standard deviation captures how spread the points in a data are, while the standard error of the mean captures how spread the mean would be if you were to calculate several sample means from a population."
   ]
  },
  {
   "cell_type": "markdown",
   "id": "0a560f06",
   "metadata": {},
   "source": [
    "**Question 2**\n",
    "\n",
    "To create the 95% confidence interval of a bootstrapped dataset, you would first need to grab the critical value of the standard normal distribution for a 95% confidence interval (the value that represents the two values where there is a 95% probability of values appearing within for a standard normal distribution), which is approximately 2. Then, to get the 95% confidence interval of the bootstrapped sample means, you add and subtract the mean of the bootstrapped values by the product of the critical value and the standard error of the mean. By adding and subtracting, you get the upper and lower boundary, respectively, of the interval for which 95% of the bootstrapped sample means fall within."
   ]
  },
  {
   "cell_type": "markdown",
   "id": "95c1b000",
   "metadata": {},
   "source": [
    "**Question 3**\n",
    "\n",
    "Since the 95% confidence interval is just the interval where 95% of the bootstrapped sample means fall in, to get this exact interval, all you would have to do is calculate the 0.025th and 0.975th quantile of the bootstrapped sample means, and those values would be your lower and upper boundaries of the 95% confidence interval. For example, if you were creating code and you had your bootstrapped sample means in the object *a*, what you would have to do to calculate the 95% confidence interval is to use np.quantile(*a, 0.025*) for the 0.025th quantile and np.quantile(*a, 0.975*) ofr the 0.975th quantile, and then you're basically done. You have your interval! (Of course its not as simple as that sometimes, and if you require the extra parameters of *np.quantile()* you would have to use them.)"
   ]
  },
  {
   "cell_type": "markdown",
   "id": "e533b90b",
   "metadata": {},
   "source": [
    "**Question 4**"
   ]
  },
  {
   "cell_type": "code",
   "execution_count": 14,
   "id": "66aa74b9",
   "metadata": {},
   "outputs": [
    {
     "name": "stdout",
     "output_type": "stream",
     "text": [
      "Mean 95% Confidence Interval: [47.17, 50.70]\n"
     ]
    }
   ],
   "source": [
    "import numpy as np\n",
    "\n",
    "# Generates reproducable random numbers\n",
    "np.random.seed(42)\n",
    "\n",
    "# Creates the mean and std of the population, and sets the sample size\n",
    "population_mean = 50\n",
    "population_std = 10\n",
    "sample_size = 100\n",
    "\n",
    "# Generates a sample based off the set mean, sample size, and std of the population\n",
    "sample = np.random.normal(loc=population_mean, scale=population_std, size=sample_size)\n",
    "\n",
    "# The number of bootstrapped samples that will be created\n",
    "n_bootstrap = 10000\n",
    "\n",
    "# Creates an array full of zeroes equal to the number of bootstrapped samples\n",
    "boot_means = np.zeros(n_bootstrap)\n",
    "\n",
    "# Generates a number of bootstrapped samples declared earlier\n",
    "for i in range(n_bootstrap):\n",
    "    # Generates bootstrapped sample through sampling with replacement\n",
    "    boot_sample = np.random.choice(sample, size=sample_size, replace=True)\n",
    "    # Calculates the mean of the current bootstrapped sample, and stores it into the declared array\n",
    "    boot_means[i] = np.mean(boot_sample)\n",
    "# Calculates the lower and upper boundary of the 95% confidence interval for the bootstrapped sample means\n",
    "lower_bound = np.percentile(boot_means, 2.5)\n",
    "upper_bound = np.percentile(boot_means, 97.5)\n",
    "# Prints out the interval\n",
    "print(f\"Mean 95% Confidence Interval: [{lower_bound:.2f}, {upper_bound:.2f}]\")"
   ]
  },
  {
   "cell_type": "code",
   "execution_count": 17,
   "id": "76499aa4",
   "metadata": {},
   "outputs": [
    {
     "name": "stdout",
     "output_type": "stream",
     "text": [
      "Median 95% Confidence Interval: [46.99, 51.34]\n"
     ]
    }
   ],
   "source": [
    "import numpy as np\n",
    "\n",
    "# Generates reproducable random numbers\n",
    "np.random.seed(42)\n",
    "\n",
    "# Creates the mean and std of the population, and sets the sample size\n",
    "population_mean = 50\n",
    "population_std = 10\n",
    "sample_size = 100\n",
    "\n",
    "# Generates a sample based off the set mean, sample size, and std of the population\n",
    "sample = np.random.normal(loc=population_mean, scale=population_std, size=sample_size)\n",
    "\n",
    "# The number of bootstrapped samples that will be created\n",
    "n_bootstrap = 10000\n",
    "\n",
    "# Creates an array full of zeroes equal to the number of bootstrapped samples\n",
    "boot_medians = np.zeros(n_bootstrap)\n",
    "\n",
    "# Generates a number of bootstrapped samples declared earlier\n",
    "for i in range(n_bootstrap):\n",
    "    # Generates bootstrapped sample through sampling with replacement\n",
    "    boot_sample = np.random.choice(sample, size=sample_size, replace=True)\n",
    "    # Calculates the median of the current bootstrapped sample, and stores it into the declared array\n",
    "    boot_medians[i] = np.median(boot_sample)\n",
    "# Calculates the lower and upper boundary of the 95% confidence interval for the bootstrapped sample means\n",
    "lower_bound = np.percentile(boot_medians, 2.5)\n",
    "upper_bound = np.percentile(boot_medians, 97.5)\n",
    "# Prints out the interval\n",
    "print(f\"Median 95% Confidence Interval: [{lower_bound:.2f}, {upper_bound:.2f}]\")"
   ]
  },
  {
   "cell_type": "code",
   "execution_count": 20,
   "id": "4cfe3a47",
   "metadata": {},
   "outputs": [
    {
     "name": "stdout",
     "output_type": "stream",
     "text": [
      "Standard Deviation 95% Confidence Interval: [7.78, 10.15]\n"
     ]
    }
   ],
   "source": [
    "import numpy as np\n",
    "\n",
    "# Generates reproducable random numbers\n",
    "np.random.seed(42)\n",
    "\n",
    "# Creates the mean and std of the population, and sets the sample size\n",
    "population_mean = 50\n",
    "population_std = 10\n",
    "sample_size = 100\n",
    "\n",
    "# Generates a sample based off the set mean, sample size, and std of the population\n",
    "sample = np.random.normal(loc=population_mean, scale=population_std, size=sample_size)\n",
    "\n",
    "# The number of bootstrapped samples that will be created\n",
    "n_bootstrap = 10000\n",
    "\n",
    "# Creates an array full of zeroes equal to the number of bootstrapped samples\n",
    "boot_stds = np.zeros(n_bootstrap)\n",
    "\n",
    "# Generates a number of bootstrapped samples declared earlier\n",
    "for i in range(n_bootstrap):\n",
    "    # Generates bootstrapped sample through sampling with replacement\n",
    "    boot_sample = np.random.choice(sample, size=sample_size, replace=True)\n",
    "    # Calculates the standard deviation of the current bootstrapped sample, and stores it into the declared array\n",
    "    boot_stds[i] = np.std(boot_sample)\n",
    "# Calculates the lower and upper boundary of the 95% confidence interval for the bootstrapped sample means\n",
    "lower_bound = np.percentile(boot_stds, 2.5)\n",
    "upper_bound = np.percentile(boot_stds, 97.5)\n",
    "# Prints out the interval\n",
    "print(f\"Standard Deviation 95% Confidence Interval: [{lower_bound:.2f}, {upper_bound:.2f}]\")"
   ]
  },
  {
   "cell_type": "markdown",
   "id": "052c0610",
   "metadata": {},
   "source": [
    "**Question 5:**\n",
    "\n",
    "We need to distinguish the role of population parameters and the sample statistics because when it comes to confidence intervals, they both play different roles. Confidence intervals, at their core, are the estimations of the fixed population parameters based off the sample statistics of the samples derived from the same population. Population parameters, in a realistic setting, are unknown to us, which is why we use sample statistics to approximate them. Sample statistics ARE known, yet are variable due to the nature of sampling, making it impossible for us to calculate a population parameter. By using calculated sample statistics to calculate confidence intervals, all we are doing is narrowing down the possible values that a population parameter can be."
   ]
  },
  {
   "cell_type": "markdown",
   "id": "1531db25",
   "metadata": {},
   "source": [
    "**Question 6:**\n",
    "\n",
    "1. The process of bootstrapping is when you take the sample of a population and generate new samples of the same size using the same values of the original sample, using sampling with replacement to ensure variability amongst the bootstrapped samples.\n",
    "\n",
    "2. The purpose of bootstrapping is to generate sample statistics that can be used to gain insight on the parameters of a derived population. Since in a realistic scenario we wouldn't be able to generate a multiple significant samples from a population, bootstrapping the existing samples is the next best option.\n",
    "\n",
    "3. You would take the sample and generate bootstrapped samples out of it through sampling with replacement. Once you have created a satisifactory amount of bootstrapped samples, you would calculate the means of each sample. You would then compile those means into a bootstrapped sample means dataset, where you are then able to calculate that 95% confidence interval of the bootstrapped means. Whether your hypothesis was in the 95% confidence interval of the bootstrapped means would determine how plausible your guess of the population average was."
   ]
  },
  {
   "cell_type": "markdown",
   "id": "c5dc725f",
   "metadata": {},
   "source": [
    "**Question 7:** \n",
    "\n",
    "A confidence interval overlapping zero fails to reject the null hypothesis because we cannot be confident that zero is not a possible value of the population mean, as it is within the 95% confidence interval of the bootstrapped means. While we can observe that sample mean statistic is never zero, it does not definitively rule out the possibility of a zero population mean. What would lead to the opposite conclusion in this context would be if zero was outside of the 95% confidence interval, where the interval is either beyond or before zero. Since zero would not be in the interval, we would be 95% confident that zero is not the population mean, therefore making it safe to assume that zero is not the population mean."
   ]
  },
  {
   "cell_type": "markdown",
   "id": "6188f56e",
   "metadata": {},
   "source": [
    "**Question 8:**\n",
    "\n",
    "Here, we have the data of a new vaccine developed by Alitech, showing the ages, genders, and the before and after health score of the sample patients."
   ]
  },
  {
   "cell_type": "code",
   "execution_count": 5,
   "id": "47e716df",
   "metadata": {},
   "outputs": [
    {
     "data": {
      "text/html": [
       "<div>\n",
       "<style scoped>\n",
       "    .dataframe tbody tr th:only-of-type {\n",
       "        vertical-align: middle;\n",
       "    }\n",
       "\n",
       "    .dataframe tbody tr th {\n",
       "        vertical-align: top;\n",
       "    }\n",
       "\n",
       "    .dataframe thead th {\n",
       "        text-align: right;\n",
       "    }\n",
       "</style>\n",
       "<table border=\"1\" class=\"dataframe\">\n",
       "  <thead>\n",
       "    <tr style=\"text-align: right;\">\n",
       "      <th></th>\n",
       "      <th>PatientID</th>\n",
       "      <th>Age</th>\n",
       "      <th>Gender</th>\n",
       "      <th>InitialHealthScore</th>\n",
       "      <th>FinalHealthScore</th>\n",
       "    </tr>\n",
       "  </thead>\n",
       "  <tbody>\n",
       "    <tr>\n",
       "      <th>0</th>\n",
       "      <td>1</td>\n",
       "      <td>45</td>\n",
       "      <td>M</td>\n",
       "      <td>84</td>\n",
       "      <td>86</td>\n",
       "    </tr>\n",
       "    <tr>\n",
       "      <th>1</th>\n",
       "      <td>2</td>\n",
       "      <td>34</td>\n",
       "      <td>F</td>\n",
       "      <td>78</td>\n",
       "      <td>86</td>\n",
       "    </tr>\n",
       "    <tr>\n",
       "      <th>2</th>\n",
       "      <td>3</td>\n",
       "      <td>29</td>\n",
       "      <td>M</td>\n",
       "      <td>83</td>\n",
       "      <td>80</td>\n",
       "    </tr>\n",
       "    <tr>\n",
       "      <th>3</th>\n",
       "      <td>4</td>\n",
       "      <td>52</td>\n",
       "      <td>F</td>\n",
       "      <td>81</td>\n",
       "      <td>86</td>\n",
       "    </tr>\n",
       "    <tr>\n",
       "      <th>4</th>\n",
       "      <td>5</td>\n",
       "      <td>37</td>\n",
       "      <td>M</td>\n",
       "      <td>81</td>\n",
       "      <td>84</td>\n",
       "    </tr>\n",
       "    <tr>\n",
       "      <th>5</th>\n",
       "      <td>6</td>\n",
       "      <td>41</td>\n",
       "      <td>F</td>\n",
       "      <td>80</td>\n",
       "      <td>86</td>\n",
       "    </tr>\n",
       "    <tr>\n",
       "      <th>6</th>\n",
       "      <td>7</td>\n",
       "      <td>33</td>\n",
       "      <td>M</td>\n",
       "      <td>79</td>\n",
       "      <td>86</td>\n",
       "    </tr>\n",
       "    <tr>\n",
       "      <th>7</th>\n",
       "      <td>8</td>\n",
       "      <td>48</td>\n",
       "      <td>F</td>\n",
       "      <td>85</td>\n",
       "      <td>82</td>\n",
       "    </tr>\n",
       "    <tr>\n",
       "      <th>8</th>\n",
       "      <td>9</td>\n",
       "      <td>26</td>\n",
       "      <td>M</td>\n",
       "      <td>76</td>\n",
       "      <td>83</td>\n",
       "    </tr>\n",
       "    <tr>\n",
       "      <th>9</th>\n",
       "      <td>10</td>\n",
       "      <td>39</td>\n",
       "      <td>F</td>\n",
       "      <td>83</td>\n",
       "      <td>84</td>\n",
       "    </tr>\n",
       "  </tbody>\n",
       "</table>\n",
       "</div>"
      ],
      "text/plain": [
       "   PatientID  Age Gender  InitialHealthScore  FinalHealthScore\n",
       "0          1   45      M                  84                86\n",
       "1          2   34      F                  78                86\n",
       "2          3   29      M                  83                80\n",
       "3          4   52      F                  81                86\n",
       "4          5   37      M                  81                84\n",
       "5          6   41      F                  80                86\n",
       "6          7   33      M                  79                86\n",
       "7          8   48      F                  85                82\n",
       "8          9   26      M                  76                83\n",
       "9         10   39      F                  83                84"
      ]
     },
     "metadata": {},
     "output_type": "display_data"
    }
   ],
   "source": [
    "import pandas as pd\n",
    "\n",
    "# Load the dataset from the URL\n",
    "url = 'https://raw.githubusercontent.com/matthew-SG/Fall24_STA130_HW/refs/heads/main/Datasets/HW4_Dataset.csv'\n",
    "data = pd.read_csv(url)\n",
    "\n",
    "# If you want to see the entire DataFrame in Jupyter, use display instead of print\n",
    "from IPython.display import display\n",
    "display(data)"
   ]
  },
  {
   "cell_type": "markdown",
   "id": "fa10048d",
   "metadata": {},
   "source": [
    "What we want to examaine is the effectiveness of the vaccine, so first we want to see how patients have improved or deteriorated after taking the vaccine, so we calculate the difference of their final and initial health score."
   ]
  },
  {
   "cell_type": "code",
   "execution_count": 35,
   "id": "5c42c272",
   "metadata": {},
   "outputs": [
    {
     "data": {
      "image/png": "[encoded data removed]"
     },
     "metadata": {},
     "output_type": "display_data"
    }
   ],
   "source": [
    "import pandas as pd\n",
    "import plotly.express as px\n",
    "\n",
    "# Load the dataset from the URL\n",
    "url = 'https://raw.githubusercontent.com/matthew-SG/Fall24_STA130_HW/refs/heads/main/Datasets/HW4_Dataset.csv'\n",
    "data = pd.read_csv(url)\n",
    "\n",
    "# Assuming the dataset has two columns: 'Initial_Health_Score' and 'Final_Health_Score'\n",
    "# Calculate the difference between the final and initial health scores\n",
    "data['Health_Score_Difference'] = data['FinalHealthScore'] - data['InitialHealthScore']\n",
    "\n",
    "# Create a histogram using Plotly\n",
    "fig = px.histogram(data, x='Health_Score_Difference', nbins=20, title='Histogram of Alitech Vaccine Effectiveness')\n",
    "\n",
    "# Customize axis labels\n",
    "fig.update_layout(\n",
    "    xaxis_title='Health Score Difference (Final - Initial)',\n",
    "    yaxis_title='Number of Patients',\n",
    "    yaxis = dict(tickmode='linear', tick0=0, dtick=1)  # Ensures y-axis uses integer values\n",
    ")\n",
    "\n",
    "# Show the plot\n",
    "fig.show(renderer='png')"
   ]
  },
  {
   "cell_type": "markdown",
   "id": "b83fbff7",
   "metadata": {},
   "source": [
    "Now that we have a representation of the effectiveness of the vaccine for this sample, we can calculate the average effectiveness (difference) of the vaccine for this sample."
   ]
  },
  {
   "cell_type": "code",
   "execution_count": 11,
   "id": "e41c7531",
   "metadata": {},
   "outputs": [
    {
     "name": "stdout",
     "output_type": "stream",
     "text": [
      "Average Effectiveness of Alitech Vaccine: 3.3\n"
     ]
    }
   ],
   "source": [
    "import pandas as pd\n",
    "\n",
    "# Load the dataset from the URL\n",
    "url = 'https://raw.githubusercontent.com/matthew-SG/Fall24_STA130_HW/refs/heads/main/Datasets/HW4_Dataset.csv'\n",
    "data = pd.read_csv(url)\n",
    "\n",
    "# Assuming the dataset has two columns: 'Initial_Health_Score' and 'Final_Health_Score'\n",
    "# Calculate the difference between the final and initial health scores\n",
    "data['Health_Score_Difference'] = data['FinalHealthScore'] - data['InitialHealthScore']\n",
    "\n",
    "# Calculate the mean of the health score differences\n",
    "mean_difference = data['Health_Score_Difference'].mean()\n",
    "\n",
    "# Print the mean of the health score differences\n",
    "print(f'Average Effectiveness of Alitech Vaccine: {mean_difference}')"
   ]
  },
  {
   "cell_type": "markdown",
   "id": "615a9a9e",
   "metadata": {},
   "source": [
    "So we can see in the context of this independent sample, the vaccine appears to be effecitve. However, this small sample cannot represent the effectiveness of the vaccine on the population, so we must simulate it somehow. We shall do this by creating bootstrapped samples of the dataset with the health score differences, then we shall calculate and gather the bootstrapped means of those datasets."
   ]
  },
  {
   "cell_type": "code",
   "execution_count": 36,
   "id": "9c3755ab",
   "metadata": {},
   "outputs": [
    {
     "data": {
      "image/png": "[encoded data removed]"
     },
     "metadata": {},
     "output_type": "display_data"
    }
   ],
   "source": [
    "import pandas as pd\n",
    "import numpy as np\n",
    "import plotly.express as px\n",
    "\n",
    "# Random seed for reproducible results\n",
    "np.random.seed(143)\n",
    "\n",
    "# Load the dataset from the URL\n",
    "url = 'https://raw.githubusercontent.com/matthew-SG/Fall24_STA130_HW/refs/heads/main/Datasets/HW4_Dataset.csv'\n",
    "data = pd.read_csv(url)\n",
    "\n",
    "# Assuming the dataset has two columns: 'InitialHealthScore' and 'FinalHealthScore'\n",
    "# Calculate the difference between the final and initial health scores\n",
    "data['Health_Score_Difference'] = data['FinalHealthScore'] - data['InitialHealthScore']\n",
    "\n",
    "# Bootstrap parameters\n",
    "n_iterations = 10000  # Number of bootstrap samples\n",
    "n_size = len(data)   # Sample size for each bootstrap\n",
    "\n",
    "# Store bootstrapped means\n",
    "boot_means = []\n",
    "\n",
    "# Perform bootstrapping\n",
    "for _ in range(n_iterations):\n",
    "    # Generate a bootstrapped sample (with replacement)\n",
    "    sample = data['Health_Score_Difference'].sample(n=n_size, replace=True)\n",
    "    # Calculate the mean of the sample\n",
    "    boot_mean = sample.mean()\n",
    "    # Store the bootstrapped mean\n",
    "    boot_means.append(boot_mean)\n",
    "\n",
    "# Convert to a DataFrame for easier handling\n",
    "boot_means_df = pd.DataFrame(boot_means, columns=['Bootstrapped_Means'])\n",
    "\n",
    "# Create the histogram using Plotly (displaying density instead of frequency)\n",
    "fig = px.histogram(boot_means_df, x='Bootstrapped_Means', nbins=50, marginal=\"rug\", \n",
    "                   histnorm='probability density',  # Set to density\n",
    "                   title=\"Sample Means of Vaccine Effectiveness\", \n",
    "                   labels={'Bootstrapped_Means': 'Sample Mean'})\n",
    "\n",
    "# Update the layout to reflect density\n",
    "fig.update_layout(\n",
    "    xaxis_title='Sample Mean',\n",
    "    yaxis_title='Density',\n",
    "    showlegend=False\n",
    ")\n",
    "\n",
    "# Show the plot\n",
    "fig.show(renderer='png')"
   ]
  },
  {
   "cell_type": "markdown",
   "id": "a77990cb",
   "metadata": {},
   "source": [
    "Now that we have simulated thousands of more patients being effected through bootstrapping, we can make some observations. First lets examine the mean of sample means."
   ]
  },
  {
   "cell_type": "code",
   "execution_count": 33,
   "id": "dc523971",
   "metadata": {},
   "outputs": [
    {
     "name": "stdout",
     "output_type": "stream",
     "text": [
      "Average vaccine effectiveness of bootstrapped samples: 3.30284\n"
     ]
    }
   ],
   "source": [
    "# Calculate the mean of the bootstrapped means\n",
    "mean_bootstrapped_means = np.mean(boot_means)\n",
    "print(f\"Average vaccine effectiveness of bootstrapped samples: {mean_bootstrapped_means}\")"
   ]
  },
  {
   "cell_type": "markdown",
   "id": "a7203bcf",
   "metadata": {},
   "source": [
    "As we can see, in the context of the bootstrapped sample means, the average effectiveness appears to be positive, as in the vaccine improves patient health. But, we cannot be confident yet that the vaccine is effective for the actual population. For that, we must first determine the 95% confidence interval to approximate the population mean."
   ]
  },
  {
   "cell_type": "code",
   "execution_count": 34,
   "id": "589c5250",
   "metadata": {},
   "outputs": [
    {
     "name": "stdout",
     "output_type": "stream",
     "text": [
      "95% Confidence Interval: (0.9, 5.6)\n"
     ]
    }
   ],
   "source": [
    "# Calculate the 95% confidence interval\n",
    "lower_ci = np.percentile(boot_means, 2.5)  # 2.5th percentile\n",
    "upper_ci = np.percentile(boot_means, 97.5)  # 97.5th percentile\n",
    "\n",
    "print(f\"95% Confidence Interval: ({lower_ci}, {upper_ci})\")"
   ]
  },
  {
   "cell_type": "markdown",
   "id": "c986d5c7",
   "metadata": {},
   "source": [
    "With this, we can be 95% confident that the estimated effectiveness of the vaccine lies within a health score difference of +0.9 and +5.6. With this, we can reject a null hypothesis, that the vaccine has no effect on the population (a health score difference of 0), as a health score difference of 0 does not lie within the 95% confidence interval. \n",
    "\n",
    "Other considerations of course must be taken to produce a more accurate conclusion, such as age and gender. However, for the purposes of the general population, the vaccine will confidently improve the health of those who take it."
   ]
  },
  {
   "cell_type": "markdown",
   "id": "d12abb9e",
   "metadata": {},
   "source": [
    "**ChatGPT Summary**:\n",
    "\n",
    "In this session, we discussed several aspects related to analyzing and visualizing a dataset of health scores. Here’s a summary of the key topics we covered:\n",
    "\n",
    "1. **Distinguishing between Population Parameters and Sample Statistics**: We clarified the difference between population parameters (fixed, unknown quantities) and sample statistics (estimates based on sample data). Confidence intervals estimate population parameters using sample statistics.\n",
    "   \n",
    "2. **Creating a Reproducible Bootstrapping Process**: We implemented a Python script using `numpy`, `pandas`, and `plotly` to calculate the difference between initial and final health scores and perform bootstrapping to generate multiple sample means. We ensured reproducibility using `np.random.seed()`.\n",
    "\n",
    "3. **Histogram of Bootstrapped Means**: Using the `plotly.express` library, we created a histogram to visualize the distribution of the bootstrapped means, switching between displaying density and frequency.\n",
    "\n",
    "4. **Mean of Bootstrapped Means**: We calculated the mean of the bootstrapped means, adding a simple line of code to compute the average.\n",
    "\n",
    "5. **95% Confidence Interval for Bootstrapped Means**: We extended the script to calculate and display the 95% confidence interval of the bootstrapped means by calculating the 2.5th and 97.5th percentiles. We also visually represented these bounds by adding vertical lines on the histogram.\n",
    "\n",
    "Each step helped build a more complete understanding of bootstrapping, visualization, and confidence interval calculation. Let me know if you'd like any part of the code or explanation revisited!\n",
    "\n",
    "https://chatgpt.com/share/66fde416-31a0-8003-8c3b-bc2bb50c16a3"
   ]
  }
 ],
 "metadata": {
  "kernelspec": {
   "display_name": "Python 3 (ipykernel)",
   "language": "python",
   "name": "python3"
  },
  "language_info": {
   "codemirror_mode": {
    "name": "ipython",
    "version": 3
   },
   "file_extension": ".py",
   "mimetype": "text/x-python",
   "name": "python",
   "nbconvert_exporter": "python",
   "pygments_lexer": "ipython3",
   "version": "3.11.6"
  }
 },
 "nbformat": 4,
 "nbformat_minor": 5
}
